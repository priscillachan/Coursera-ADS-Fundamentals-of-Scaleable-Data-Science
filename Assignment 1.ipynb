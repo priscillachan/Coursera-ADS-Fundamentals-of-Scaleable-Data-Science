{
    "cells": [
        {
            "cell_type": "markdown",
            "metadata": {},
            "source": "# Warmup Assignment\n\nIn this exercise you will just submit a ping to the grader in order to make sure the exercise and grading environment is setup correctly."
        },
        {
            "cell_type": "markdown",
            "metadata": {},
            "source": "\n\nWe have to install a little library in order to submit to coursera\n"
        },
        {
            "cell_type": "code",
            "execution_count": 1,
            "metadata": {},
            "outputs": [
                {
                    "name": "stdout",
                    "output_type": "stream",
                    "text": "Waiting for a Spark session to start...\nSpark Initialization Done! ApplicationId = app-20200608160536-0000\nKERNEL_ID = 9d77d7be-dd60-462d-9b6b-886efa503b2a\n--2020-06-08 16:05:40--  https://raw.githubusercontent.com/IBM/coursera/master/rklib.py\nResolving raw.githubusercontent.com (raw.githubusercontent.com)... 199.232.8.133\nConnecting to raw.githubusercontent.com (raw.githubusercontent.com)|199.232.8.133|:443... connected.\nHTTP request sent, awaiting response... 200 OK\nLength: 2540 (2.5K) [text/plain]\nSaving to: 'rklib.py'\n\n100%[======================================>] 2,540       --.-K/s   in 0s      \n\n2020-06-08 16:05:40 (41.2 MB/s) - 'rklib.py' saved [2540/2540]\n\n"
                }
            ],
            "source": "!rm -f rklib.py\n!wget https://raw.githubusercontent.com/IBM/coursera/master/rklib.py"
        },
        {
            "cell_type": "markdown",
            "metadata": {},
            "source": "Please provide your email address and obtain a submission token on the grader\u2019s submission page in coursera, then execute the cell"
        },
        {
            "cell_type": "code",
            "execution_count": 4,
            "metadata": {},
            "outputs": [
                {
                    "name": "stdout",
                    "output_type": "stream",
                    "text": "Submission successful, please check on the coursera grader page for the status\n-------------------------\n{\"elements\":[{\"itemId\":\"MV2rL\",\"id\":\"sUpST4RAEeawAApvKZgcCQ~MV2rL~C_Ysp6miEeqgWhJT0NOSAw\",\"courseId\":\"sUpST4RAEeawAApvKZgcCQ\"}],\"paging\":{},\"linked\":{}}\n-------------------------\n"
                }
            ],
            "source": "from rklib import submit\nimport json\n\nkey = \"RrIb4SHNEeiLcw7AkKxwaA\"\npart = \"zetaj\"\nemail = \"priscilla.e.chan@gmail.com\"\ntoken = \"t6IsNbvzank16smm\"\n #you can obtain it from the grader page on Coursera (have a look here if you need more information https://youtu.be/GcDo0Rwe06U?t=276)\n\n\nsubmit(email, token, key, part, [part], json.dumps(23))"
        },
        {
            "cell_type": "code",
            "execution_count": null,
            "metadata": {},
            "outputs": [],
            "source": ""
        }
    ],
    "metadata": {
        "kernelspec": {
            "display_name": "Python 3.6 with Spark",
            "language": "python3",
            "name": "python36"
        },
        "language_info": {
            "codemirror_mode": {
                "name": "ipython",
                "version": 3
            },
            "file_extension": ".py",
            "mimetype": "text/x-python",
            "name": "python",
            "nbconvert_exporter": "python",
            "pygments_lexer": "ipython3",
            "version": "3.6.8"
        }
    },
    "nbformat": 4,
    "nbformat_minor": 1
}